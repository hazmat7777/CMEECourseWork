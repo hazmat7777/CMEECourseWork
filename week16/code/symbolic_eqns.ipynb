{
 "cells": [
  {
   "cell_type": "code",
   "execution_count": 16,
   "id": "f35f8cc9",
   "metadata": {},
   "outputs": [
    {
     "data": {
      "image/png": "[encoded data removed]",
      "text/latex": [
       "$\\displaystyle \\text{False}$"
      ],
      "text/plain": [
       "False"
      ]
     },
     "execution_count": 16,
     "metadata": {},
     "output_type": "execute_result"
    }
   ],
   "source": [
    "%matplotlib inline\n",
    "import matplotlib.pyplot as p\n",
    "\n",
    "from sympy import *\n",
    "import scipy as sc\n",
    "init_printing() # for pretty-printing equations etc\n",
    "\n",
    "# defining variables\n",
    "x = var('x')\n",
    "type(x) # check its class: symbolic var\n",
    "\n",
    "a, b, c = var(\"a, b, c\") # multiple at once\n",
    "\n",
    "## add constraints to our symbolic vars\n",
    "x = var('x', real=True)\n",
    "x.is_imaginary # no\n",
    "\n",
    "x = Symbol('x', positive=True)\n",
    "x > 0 # true\n",
    "x < 0 # false"
   ]
  },
  {
   "cell_type": "code",
   "execution_count": 17,
   "id": "403819d2",
   "metadata": {},
   "outputs": [
    {
     "data": {
      "image/png": "[encoded data removed]",
      "text/latex": [
       "$\\displaystyle \\left(x + \\pi\\right)^{2}$"
      ],
      "text/plain": [
       "       2\n",
       "(x + π) "
      ]
     },
     "execution_count": 17,
     "metadata": {},
     "output_type": "execute_result"
    }
   ],
   "source": [
    "## symbolic eqns\n",
    "MyFun = (pi + x)**2; MyFun"
   ]
  },
  {
   "cell_type": "code",
   "execution_count": 10,
   "id": "1b855217",
   "metadata": {},
   "outputs": [
    {
     "name": "stdout",
     "output_type": "stream",
     "text": [
      "\\left(x + \\pi\\right)^{2}\n"
     ]
    }
   ],
   "source": [
    "print(latex(MyFun))"
   ]
  },
  {
   "cell_type": "code",
   "execution_count": 11,
   "id": "724cfde6",
   "metadata": {},
   "outputs": [
    {
     "data": {
      "image/png": "[encoded data removed]",
      "text/latex": [
       "$\\displaystyle 3.141592653589793238462643383279502884197169399375105820974944592307816406286208998628034825342117068$"
      ],
      "text/plain": [
       "3.141592653589793238\n",
       "46264338327950288419\n",
       "71693993751058209749\n",
       "44592307816406286208\n",
       "99862803482534211706\n",
       "8"
      ]
     },
     "execution_count": 11,
     "metadata": {},
     "output_type": "execute_result"
    }
   ],
   "source": [
    "# numerical evaluation\n",
    "pi.evalf(n=100) # pi to a 100 places after decimal!"
   ]
  },
  {
   "cell_type": "code",
   "execution_count": 12,
   "id": "6a9532a0",
   "metadata": {},
   "outputs": [
    {
     "data": {
      "image/png": "[encoded data removed]",
      "text/latex": [
       "$\\displaystyle 3.1415926535897932384626433832795028841971693993751$"
      ],
      "text/plain": [
       "3.141592653589793238\n",
       "46264338327950288419\n",
       "71693993751"
      ]
     },
     "execution_count": 12,
     "metadata": {},
     "output_type": "execute_result"
    }
   ],
   "source": [
    "N(pi, 50) #N() is shorthand for evalf()"
   ]
  },
  {
   "cell_type": "code",
   "execution_count": 19,
   "id": "b469c353",
   "metadata": {},
   "outputs": [
    {
     "data": {
      "image/png": "[encoded data removed]",
      "text/latex": [
       "$\\displaystyle 9.8696 \\left(0.31831 x + 1\\right)^{2}$"
      ],
      "text/plain": [
       "                    \n",
       "9.8696⋅(0.31831⋅x + \n",
       "\n",
       "  2\n",
       "1) "
      ]
     },
     "execution_count": 19,
     "metadata": {},
     "output_type": "execute_result"
    }
   ],
   "source": [
    "# evaluating fn\n",
    "N(MyFun, 5) # output is just MyFun to 5dp, but it's changed its form a bit"
   ]
  },
  {
   "cell_type": "code",
   "execution_count": 20,
   "id": "54bbcb4f",
   "metadata": {},
   "outputs": [
    {
     "data": {
      "image/png": "[encoded data removed]",
      "text/latex": [
       "$\\displaystyle \\left(1.5 + \\pi\\right)^{2}$"
      ],
      "text/plain": [
       "         2\n",
       "(1.5 + π) "
      ]
     },
     "execution_count": 20,
     "metadata": {},
     "output_type": "execute_result"
    }
   ],
   "source": [
    "# sub in values\n",
    "MyFun.subs(x, 1.5) # sub x with 1.5"
   ]
  },
  {
   "cell_type": "code",
   "execution_count": 21,
   "id": "f4562c1c",
   "metadata": {},
   "outputs": [
    {
     "data": {
      "image/png": "[encoded data removed]",
      "text/latex": [
       "$\\displaystyle \\left(a + 2 \\pi\\right)^{2}$"
      ],
      "text/plain": [
       "         2\n",
       "(a + 2⋅π) "
      ]
     },
     "execution_count": 21,
     "metadata": {},
     "output_type": "execute_result"
    }
   ],
   "source": [
    "MyFun.subs(x, a+pi)"
   ]
  },
  {
   "cell_type": "code",
   "execution_count": 22,
   "id": "0c9c87c1",
   "metadata": {},
   "outputs": [
    {
     "data": {
      "image/png": "[encoded data removed]",
      "text/latex": [
       "$\\displaystyle \\left(a + 2 \\pi\\right)^{2}$"
      ],
      "text/plain": [
       "         2\n",
       "(a + 2⋅π) "
      ]
     },
     "execution_count": 22,
     "metadata": {},
     "output_type": "execute_result"
    }
   ],
   "source": [
    "# assign this as a new symbolic eqn for later use\n",
    "MyFun_new = MyFun.subs(x, a+pi); MyFun_new"
   ]
  },
  {
   "cell_type": "code",
   "execution_count": 26,
   "id": "6b98eb9b",
   "metadata": {
    "scrolled": true
   },
   "outputs": [
    {
     "name": "stderr",
     "output_type": "stream",
     "text": [
      "/tmp/ipykernel_134115/2033240119.py:2: DeprecationWarning: scipy.arange is deprecated and will be removed in SciPy 2.0.0, use numpy.arange instead\n",
      "  x_vec = sc.arange(0, 10, 0.1); x_vec\n"
     ]
    },
    {
     "data": {
      "text/plain": [
       "array([0. , 0.1, 0.2, 0.3, 0.4, 0.5, 0.6, 0.7, 0.8, 0.9, 1. , 1.1, 1.2,\n",
       "       1.3, 1.4, 1.5, 1.6, 1.7, 1.8, 1.9, 2. , 2.1, 2.2, 2.3, 2.4, 2.5,\n",
       "       2.6, 2.7, 2.8, 2.9, 3. , 3.1, 3.2, 3.3, 3.4, 3.5, 3.6, 3.7, 3.8,\n",
       "       3.9, 4. , 4.1, 4.2, 4.3, 4.4, 4.5, 4.6, 4.7, 4.8, 4.9, 5. , 5.1,\n",
       "       5.2, 5.3, 5.4, 5.5, 5.6, 5.7, 5.8, 5.9, 6. , 6.1, 6.2, 6.3, 6.4,\n",
       "       6.5, 6.6, 6.7, 6.8, 6.9, 7. , 7.1, 7.2, 7.3, 7.4, 7.5, 7.6, 7.7,\n",
       "       7.8, 7.9, 8. , 8.1, 8.2, 8.3, 8.4, 8.5, 8.6, 8.7, 8.8, 8.9, 9. ,\n",
       "       9.1, 9.2, 9.3, 9.4, 9.5, 9.6, 9.7, 9.8, 9.9])"
      ]
     },
     "execution_count": 26,
     "metadata": {},
     "output_type": "execute_result"
    }
   ],
   "source": [
    "# evaluate fn over a range of values: use numpy arrrays\n",
    "x_vec = sc.arange(0, 10, 0.1); x_vec # from 0 to 10 w 0.1 interval"
   ]
  },
  {
   "cell_type": "code",
   "execution_count": 27,
   "id": "62ea016b",
   "metadata": {
    "scrolled": true
   },
   "outputs": [
    {
     "name": "stderr",
     "output_type": "stream",
     "text": [
      "/tmp/ipykernel_134115/1026011908.py:1: DeprecationWarning: scipy.array is deprecated and will be removed in SciPy 2.0.0, use numpy.array instead\n",
      "  MyFun_vec = sc.array([N(MyFun.subs(x, xx)) for xx in x_vec]) # uses a list comprehension\n"
     ]
    }
   ],
   "source": [
    "MyFun_vec = sc.array([N(MyFun.subs(x, xx)) for xx in x_vec]) # uses a list comprehension\n",
    "# make an array of the outputs of myfun on all of xvec"
   ]
  },
  {
   "cell_type": "code",
   "execution_count": 30,
   "id": "f0be6194",
   "metadata": {},
   "outputs": [
    {
     "name": "stderr",
     "output_type": "stream",
     "text": [
      "/tmp/ipykernel_134115/3847648917.py:1: DeprecationWarning: scipy.array is deprecated and will be removed in SciPy 2.0.0, use numpy.array instead\n",
      "  MyFun_new_vec = sc.array([N((MyFun_new).subs(a, xx)) for xx in x_vec])\n"
     ]
    }
   ],
   "source": [
    "MyFun_new_vec = sc.array([N((MyFun_new).subs(a, xx)) for xx in x_vec])"
   ]
  },
  {
   "cell_type": "code",
   "execution_count": 32,
   "id": "d4e9f0a4",
   "metadata": {},
   "outputs": [
    {
     "data": {
      "text/plain": [
       "<matplotlib.legend.Legend at 0x78c8731c8590>"
      ]
     },
     "execution_count": 32,
     "metadata": {},
     "output_type": "execute_result"
    },
    {
     "data": {
      "image/png": "[encoded data removed]",
      "text/plain": [
       "<Figure size 640x480 with 1 Axes>"
      ]
     },
     "metadata": {},
     "output_type": "display_data"
    }
   ],
   "source": [
    "fig, ax = p.subplots()\n",
    "ax.plot(x_vec, MyFun_vec, label = 'MyFun')\n",
    "ax.plot(x_vec, MyFun_new_vec, label = 'MyFun_new')\n",
    "ax.legend()"
   ]
  },
  {
   "cell_type": "code",
   "execution_count": 42,
   "id": "72642d21",
   "metadata": {},
   "outputs": [],
   "source": [
    "#using evalf() or N() is slow\n",
    "#lambdify() 'compiles' a sympy expression into a fn = efficient\n",
    "MyFun_lamb = lambdify([x], MyFun, 'numpy')\n",
    "    # first arg (x) is the variables that MyFun_lamb will be a fn of\n",
    "    # now we can directly pass a numpy array:\n",
    "MyFun_vec = MyFun_lamb(x_vec)"
   ]
  },
  {
   "cell_type": "code",
   "execution_count": 45,
   "id": "26293788",
   "metadata": {},
   "outputs": [
    {
     "name": "stderr",
     "output_type": "stream",
     "text": [
      "<magic-timeit>:1: DeprecationWarning: scipy.array is deprecated and will be removed in SciPy 2.0.0, use numpy.array instead\n"
     ]
    },
    {
     "name": "stdout",
     "output_type": "stream",
     "text": [
      "9.69 ms ± 64.2 µs per loop (mean ± std. dev. of 7 runs, 100 loops each)\n"
     ]
    }
   ],
   "source": [
    "%%timeit\n",
    "MyFun_vec = sc.array([N(((x + pi)**2).subs(x, xx)) for xx in x_vec])"
   ]
  },
  {
   "cell_type": "code",
   "execution_count": 51,
   "id": "944ea60a",
   "metadata": {},
   "outputs": [
    {
     "name": "stdout",
     "output_type": "stream",
     "text": [
      "1.64 µs ± 55.8 ns per loop (mean ± std. dev. of 7 runs, 1,000,000 loops each)\n"
     ]
    }
   ],
   "source": [
    "%%timeit\n",
    "MyFun_vec = MyFun_lamb(x_vec)"
   ]
  },
  {
   "cell_type": "code",
   "execution_count": null,
   "id": "8b216541",
   "metadata": {},
   "outputs": [],
   "source": []
  }
 ],
 "metadata": {
  "kernelspec": {
   "display_name": "Python 3 (ipykernel)",
   "language": "python",
   "name": "python3"
  },
  "language_info": {
   "codemirror_mode": {
    "name": "ipython",
    "version": 3
   },
   "file_extension": ".py",
   "mimetype": "text/x-python",
   "name": "python",
   "nbconvert_exporter": "python",
   "pygments_lexer": "ipython3",
   "version": "3.12.3"
  }
 },
 "nbformat": 4,
 "nbformat_minor": 5
}
